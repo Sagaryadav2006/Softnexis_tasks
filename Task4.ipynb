{
 "cells": [
  {
   "cell_type": "code",
   "execution_count": 1,
   "id": "b5199548-6564-4760-b002-0528f4da3ec2",
   "metadata": {},
   "outputs": [],
   "source": [
    "import pandas as pd\n",
    "import numpy as np\n",
    "import scipy.stats as stats\n",
    "import matplotlib.pyplot as plt"
   ]
  },
  {
   "cell_type": "code",
   "execution_count": 2,
   "id": "5698b704-da7d-451c-8442-ab55aa16c2fe",
   "metadata": {},
   "outputs": [
    {
     "name": "stdout",
     "output_type": "stream",
     "text": [
      "Sample Data :\n",
      "    user_id                   timestamp      group landing_page  converted\n",
      "0   851104  2017-01-21 22:11:48.556739    control     old_page          0\n",
      "1   804228  2017-01-12 08:01:45.159739    control     old_page          0\n",
      "2   661590  2017-01-11 16:55:06.154213  treatment     new_page          0\n",
      "3   853541  2017-01-08 18:28:03.143765  treatment     new_page          0\n",
      "4   864975  2017-01-21 01:52:26.210827    control     old_page          1\n"
     ]
    }
   ],
   "source": [
    "ab_data = pd.read_csv(\"ab_test_data.csv\")\n",
    "print(\"Sample Data :\\n\",ab_data.head())"
   ]
  },
  {
   "cell_type": "code",
   "execution_count": 3,
   "id": "dbdd0957-8ded-4eb8-aa6c-3596bb3aabba",
   "metadata": {},
   "outputs": [],
   "source": [
    "conv_old= ab_data[ab_data['group'] == 'control']['converted'].sum()\n",
    "conv_new = ab_data[ab_data['group'] == 'treatment']['converted'].sum()\n",
    "n_old = ab_data[ab_data['group'] == 'control'].shape[0]\n",
    "n_new = ab_data[ab_data['group'] == 'treatment'].shape[0]"
   ]
  },
  {
   "cell_type": "code",
   "execution_count": 4,
   "id": "e58c46dc-cdab-47ca-87e5-001ff487228a",
   "metadata": {},
   "outputs": [
    {
     "name": "stdout",
     "output_type": "stream",
     "text": [
      "Z-score: -1.24, p-value: 0.8919\n"
     ]
    }
   ],
   "source": [
    "from statsmodels.stats.proportion import proportions_ztest\n",
    "z_score, p_value =proportions_ztest(\n",
    "    [conv_new, conv_old],\n",
    "    [n_new, n_old],\n",
    "    alternative='larger'\n",
    ")\n",
    "print(f\"Z-score: {z_score:.2f}, p-value: {p_value:.4f}\")"
   ]
  },
  {
   "cell_type": "code",
   "execution_count": 5,
   "id": "3afd6598-2f78-4af1-9298-80a0761e8296",
   "metadata": {},
   "outputs": [],
   "source": [
    "from statsmodels.stats.proportion import proportion_confint\n",
    "ci_old = proportion_confint(conv_old, n_old, alpha=0.05)\n",
    "ci_new = proportion_confint(conv_new, n_new, alpha=0.05)"
   ]
  },
  {
   "cell_type": "code",
   "execution_count": 6,
   "id": "05e2b83e-399f-432f-9ca2-e720f96955b4",
   "metadata": {},
   "outputs": [
    {
     "data": {
      "image/png": "[encoded data removed]",
      "text/plain": [
       "<Figure size 800x600 with 1 Axes>"
      ]
     },
     "metadata": {},
     "output_type": "display_data"
    }
   ],
   "source": [
    "y_values = [0.075, 0.09]\n",
    "ci_old = (0.06, 0.09)\n",
    "ci_new = (0.07, 0.11)\n",
    "confidence_intervals = [ci_old, ci_new]\n",
    "lower_errors = [y - ci[0] for y, ci in zip(y_values, confidence_intervals)]\n",
    "upper_errors = [ci[1] - y for y, ci in zip(y_values, confidence_intervals)]\n",
    "asymmetric_errors = [lower_errors, upper_errors]\n",
    "plt.figure(figsize=(8, 6))\n",
    "plt.errorbar(x=[0, 1], y=y_values,\n",
    "             yerr=asymmetric_errors,\n",
    "             fmt='o', capsize=10, label='Conversion Rate (95% CI)')\n",
    "\n",
    "plt.xticks([0, 1], ['Control', 'Treatment'])\n",
    "plt.ylabel('Conversion Rate')\n",
    "plt.title('Comparison of Conversion Rates')\n",
    "plt.grid(axis='y', linestyle='--', alpha=0.7)\n",
    "plt.legend()\n",
    "plt.show()"
   ]
  },
  {
   "cell_type": "code",
   "execution_count": 7,
   "id": "62b6ea90-ad6d-401e-9b11-773f5eb198a5",
   "metadata": {},
   "outputs": [
    {
     "name": "stdout",
     "output_type": "stream",
     "text": [
      "Chi-square p-value: 0.21823\n"
     ]
    }
   ],
   "source": [
    "contingency_table = pd.crosstab(ab_data['group'], ab_data['converted'])\n",
    "chi2, p, dof, _ = stats.chi2_contingency(contingency_table)\n",
    "print(f\"Chi-square p-value: {p:.5f}\")"
   ]
  },
  {
   "cell_type": "code",
   "execution_count": 10,
   "id": "2fd062a9-1404-43f0-b925-4d7a88638bb6",
   "metadata": {},
   "outputs": [
    {
     "name": "stdout",
     "output_type": "stream",
     "text": [
      "T-test p-value: 0.3370\n"
     ]
    }
   ],
   "source": [
    "ab_data['timestamp'] = pd.to_datetime(ab_data['timestamp'])\n",
    "duration_control = ab_data[ab_data['group']=='control']['timestamp']\n",
    "duration_treatment = ab_data[ab_data['group']=='treatment']['timestamp']\n",
    "t_stat, p_val = stats.ttest_ind(\n",
    "    duration_treatment.astype(int),\n",
    "    duration_control.astype(int)\n",
    ")\n",
    "\n",
    "print(f\"T-test p-value: {p_val:.4f}\")"
   ]
  },
  {
   "cell_type": "code",
   "execution_count": 11,
   "id": "d796075b-86c3-4d2a-8947-f13efaffd733",
   "metadata": {},
   "outputs": [
    {
     "name": "stdout",
     "output_type": "stream",
     "text": [
      "Required sample per group: 393\n"
     ]
    }
   ],
   "source": [
    "from statsmodels.stats.power import TTestIndPower\n",
    "effect_size = 0.2 \n",
    "power = 0.8 \n",
    "analysis = TTestIndPower()\n",
    "sample_size = analysis.solve_power(effect_size, power=power, alpha=0.05)\n",
    "print(f\"Required sample per group: {int(sample_size)}\")\n"
   ]
  },
  {
   "cell_type": "code",
   "execution_count": null,
   "id": "dd2673a9-10bd-4186-8656-a37b10aabf7c",
   "metadata": {},
   "outputs": [],
   "source": []
  }
 ],
 "metadata": {
  "kernelspec": {
   "display_name": "Python 3 (ipykernel)",
   "language": "python",
   "name": "python3"
  },
  "language_info": {
   "codemirror_mode": {
    "name": "ipython",
    "version": 3
   },
   "file_extension": ".py",
   "mimetype": "text/x-python",
   "name": "python",
   "nbconvert_exporter": "python",
   "pygments_lexer": "ipython3",
   "version": "3.13.5"
  }
 },
 "nbformat": 4,
 "nbformat_minor": 5
}
